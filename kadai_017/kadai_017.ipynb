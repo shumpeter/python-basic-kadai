{
  "nbformat": 4,
  "nbformat_minor": 0,
  "metadata": {
    "colab": {
      "provenance": []
    },
    "kernelspec": {
      "name": "python3",
      "display_name": "Python 3"
    },
    "language_info": {
      "name": "python"
    }
  },
  "cells": [
    {
      "cell_type": "code",
      "execution_count": 13,
      "metadata": {
        "colab": {
          "base_uri": "https://localhost:8080/"
        },
        "id": "OZYV8DhGJ7lO",
        "outputId": "442b2873-68d6-43b6-8c41-05518e140f78"
      },
      "outputs": [
        {
          "output_type": "stream",
          "name": "stdout",
          "text": [
            "太郎 は大人ではありません\n",
            "花子 は大人です\n",
            "五郎 は大人です\n",
            "吉子 は大人です\n",
            "小太郎 は大人ではありません\n",
            "花道 は大人です\n",
            "太氏 は大人ではありません\n"
          ]
        }
      ],
      "source": [
        "class Human:\n",
        "    def __init__(self, name, age):\n",
        "        self.name = name\n",
        "        self.age = age\n",
        "    def check_adult(self):\n",
        "        if self.age >= 20:\n",
        "            print(f\"{self.name} は大人です\")\n",
        "        else:\n",
        "            print(f\"{self.name} は大人ではありません\")\n",
        "\n",
        "human1 = Human(\"太郎\", 15)\n",
        "human2 = Human(\"花子\", 25)\n",
        "human3 = Human(\"五郎\", 45)\n",
        "human4 = Human(\"吉子\", 55)\n",
        "human5 = Human(\"小太郎\", 10)\n",
        "human6 = Human(\"花道\", 21)\n",
        "human7 = Human(\"太氏\", 17)\n",
        "\n",
        "human = [human1, human2, human3, human4, human5, human6, human7]\n",
        "\n",
        "for i in human:\n",
        "    i.check_adult()\n"
      ]
    }
  ]
}