{
  "nbformat": 4,
  "nbformat_minor": 0,
  "metadata": {
    "colab": {
      "provenance": []
    },
    "kernelspec": {
      "name": "python3",
      "display_name": "Python 3"
    },
    "language_info": {
      "name": "python"
    }
  },
  "cells": [
    {
      "cell_type": "code",
      "execution_count": 12,
      "metadata": {
        "colab": {
          "base_uri": "https://localhost:8080/"
        },
        "id": "OZYV8DhGJ7lO",
        "outputId": "2334bc96-b9d2-4569-9bea-e9de5f3a6d66"
      },
      "outputs": [
        {
          "output_type": "stream",
          "name": "stdout",
          "text": [
            "1100.0\n"
          ]
        }
      ],
      "source": [
        "def include_tax(price, tax):\n",
        "   total = price * tax\n",
        "   print(total)\n",
        "include_tax(1000,1.1)\n"
      ]
    }
  ]
}